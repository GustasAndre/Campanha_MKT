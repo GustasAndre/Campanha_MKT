{
  "nbformat": 4,
  "nbformat_minor": 0,
  "metadata": {
    "colab": {
      "provenance": [],
      "mount_file_id": "1jE7yyfQYZFQCACmBBZjdIFwi5PhgMsyl",
      "authorship_tag": "ABX9TyP9u2Pn+mjgyZJinlHmbdyK",
      "include_colab_link": true
    },
    "kernelspec": {
      "name": "python3",
      "display_name": "Python 3"
    },
    "language_info": {
      "name": "python"
    }
  },
  "cells": [
    {
      "cell_type": "markdown",
      "metadata": {
        "id": "view-in-github",
        "colab_type": "text"
      },
      "source": [
        "<a href=\"https://colab.research.google.com/github/GustasAndre/Campanha_MKT/blob/main/desafio_04.ipynb\" target=\"_parent\"><img src=\"https://colab.research.google.com/assets/colab-badge.svg\" alt=\"Open In Colab\"/></a>"
      ]
    },
    {
      "cell_type": "markdown",
      "source": [
        "### Desafio: Construindo um modelo de Regressão para marketing\n"
      ],
      "metadata": {
        "id": "3aEVeT4_PJjP"
      }
    },
    {
      "cell_type": "code",
      "execution_count": 64,
      "metadata": {
        "id": "FLAumisx3uKs"
      },
      "outputs": [],
      "source": [
        "#Importar as bibliotecas necessárias para o case\n",
        "import pandas as pd\n",
        "import numpy as np\n",
        "import seaborn as sns\n",
        "import matplotlib.pyplot as plt\n",
        "from sklearn.model_selection import train_test_split\n",
        "from sklearn.linear_model import LinearRegression\n",
        "from sklearn.metrics import mean_squared_error"
      ]
    },
    {
      "cell_type": "code",
      "source": [
        "#Importar dados CSV.\n",
        "mkt = pd.read_csv(\"/content/drive/MyDrive/MKT.csv\")\n",
        "mkt.head()"
      ],
      "metadata": {
        "id": "jfoWvOO847-I"
      },
      "execution_count": null,
      "outputs": []
    },
    {
      "cell_type": "code",
      "source": [
        "# Criar a coluna 'Total_de_anuncios' somando as colunas 'youtube', 'facebook' e 'newspaper'\n",
        "mkt['Total_de_anuncios'] = mkt[['youtube', 'facebook', 'newspaper']].sum(axis=1)\n",
        "\n",
        "# Reorganizar as colunas\n",
        "mkt = mkt[['youtube', 'facebook', 'newspaper', 'Total_de_anuncios', 'sales']]\n",
        "\n",
        "# Calcular a porcentagem de vendas em relação ao total de anúncios e arredondar para duas casas decimais\n",
        "mkt['%_de_vendas'] = ((mkt['sales'] / mkt['Total_de_anuncios']) * 100).round(2)\n",
        "\n",
        "mkt.head()"
      ],
      "metadata": {
        "id": "TnNOPQF1Zm0-"
      },
      "execution_count": null,
      "outputs": []
    },
    {
      "cell_type": "markdown",
      "source": [
        "Como podem observar acima, foi adicionado duas colunas para podermos verificar a relação entre o valor total de investimento e a porcentagem de vendas relacionado a campanha investida."
      ],
      "metadata": {
        "id": "LIVaI1wjPjct"
      }
    },
    {
      "cell_type": "code",
      "source": [
        "#informações sobre os dados (tipo de dados). Verificando se precisa tratar os dados.\n",
        "mkt.info()"
      ],
      "metadata": {
        "id": "_WSoYDaKB5lU"
      },
      "execution_count": null,
      "outputs": []
    },
    {
      "cell_type": "code",
      "source": [
        "#função para descrever: contagem, mínimo, máximo, desvio padrão e média.\n",
        "mkt.describe()"
      ],
      "metadata": {
        "id": "1-Q7URla9KEX"
      },
      "execution_count": null,
      "outputs": []
    },
    {
      "cell_type": "code",
      "source": [
        "# Selecionar apenas as colunas desejadas\n",
        "mkt_novo = mkt[['youtube', 'facebook', 'newspaper', 'sales']]\n",
        "\n",
        "# Calcular a matriz de correlação\n",
        "correlation_matrix = mkt_novo.corr()\n",
        "\n",
        "# Plotar a matriz de correlação usando um mapa de calor\n",
        "plt.figure(figsize=(10, 8))\n",
        "sns.heatmap(correlation_matrix,annot=True, cmap='coolwarm', fmt=\".2f\", linewidths=.5)\n",
        "plt.title('Matriz de Correlação')\n",
        "plt.show()"
      ],
      "metadata": {
        "id": "rsC2NAHiPjRz"
      },
      "execution_count": null,
      "outputs": []
    },
    {
      "cell_type": "markdown",
      "source": [
        "Vendo o modelo de correlação entre as plataformas de investimentos e a quantidade vendida, pode se observar que youtube e facebook apresentam uma correlação muito grande com o retorno de vendas, sendo que o primeiro tem 0.7 em uma escala de -1 até 1, onde 1 é o nível máximo positivo e -1 o mínimo, e o segundo de 0.69 nesta mesma escala."
      ],
      "metadata": {
        "id": "PeGAnkOdP8ZG"
      }
    },
    {
      "cell_type": "code",
      "source": [
        "# Plotar a distribuição dos dados usando um pairplot\n",
        "sns.pairplot(mkt_novo)\n",
        "plt.title('Distribuição dos Dados')\n",
        "plt.show()"
      ],
      "metadata": {
        "id": "S8bGrh7H5OW5"
      },
      "execution_count": null,
      "outputs": []
    },
    {
      "cell_type": "markdown",
      "source": [
        "Como podemos observar através do modelo de distribuição, o youtube se mostra mais uma vez sendo a ferramenta mais eficiente nos anuncios, pois como podem observear não há tanta dispersão dos dados, ou seja, quanto mais aproximado maior é a relação dos mesmos."
      ],
      "metadata": {
        "id": "46lCcWbXQ94n"
      }
    },
    {
      "cell_type": "code",
      "source": [
        "#selecionar as features(X) e a target(y):\n",
        "X = mkt[['youtube','facebook','newspaper']]\n",
        "y = mkt[['sales']]\n",
        "\n",
        "#treinar e testar as features e a target:\n",
        "X_train, X_test, y_train, y_test = train_test_split(X, y, test_size=0.2, random_state=42)\n",
        "\n",
        "#criar modelo de regressão linear:\n",
        "model = LinearRegression()\n",
        "\n",
        "#treinar modelo:\n",
        "model.fit(X_train, y_train)\n",
        "\n",
        "#fazer previsões nos dados de teste:\n",
        "predictions = model.predict(X_test)\n",
        "\n",
        "#Avaliar o desempenho do modelo:\n",
        "mse = mean_squared_error(y_test, predictions).round(4)\n",
        "print(\"MSE: \", mse)\n",
        "\n",
        "# Calcular o coeficiente de determinação (R^2) nos dados de teste\n",
        "r2_score = model.score(X_test, y_test).round(4)\n",
        "print(\"Coeficiente de determinação (R^2):\", r2_score)"
      ],
      "metadata": {
        "colab": {
          "base_uri": "https://localhost:8080/"
        },
        "id": "mBTm0vjJIlXV",
        "outputId": "296dc617-38e4-47a5-eeeb-b912884a5f1d"
      },
      "execution_count": 61,
      "outputs": [
        {
          "output_type": "stream",
          "name": "stdout",
          "text": [
            "MSE:  5.5768\n",
            "Coeficiente de determinação (R^2): 0.8729\n"
          ]
        }
      ]
    },
    {
      "cell_type": "code",
      "source": [
        "# Fazer previsões de vendas com base nos investimentos em marketing\n",
        "vendas_previstas = model.predict(X_test).round(2)\n",
        "\n",
        "# Visualizar as vendas previstas\n",
        "print(\"Vendas previstas:\")\n",
        "print(vendas_previstas)"
      ],
      "metadata": {
        "colab": {
          "base_uri": "https://localhost:8080/"
        },
        "id": "b-uq-IbGNuMi",
        "outputId": "43ee2f7a-2217-4a5a-ae09-4c5f8b5fec17"
      },
      "execution_count": 63,
      "outputs": [
        {
          "output_type": "stream",
          "name": "stdout",
          "text": [
            "Vendas previstas:\n",
            "[[12.98]\n",
            " [25.06]\n",
            " [18.24]\n",
            " [20.63]\n",
            " [11.59]\n",
            " [ 8.56]\n",
            " [13.35]\n",
            " [23.17]\n",
            " [12.03]\n",
            " [24.96]\n",
            " [10.23]\n",
            " [13.43]\n",
            " [13.98]\n",
            " [11.03]\n",
            " [20.76]\n",
            " [26.45]\n",
            " [28.93]\n",
            " [21.76]\n",
            " [21.25]\n",
            " [24.16]\n",
            " [20.68]\n",
            " [ 9.84]\n",
            " [19.43]\n",
            " [18.24]\n",
            " [14.29]\n",
            " [26.11]\n",
            " [20.88]\n",
            " [10.58]\n",
            " [12.22]\n",
            " [23.14]\n",
            " [ 7.01]\n",
            " [ 8.46]\n",
            " [16.6 ]\n",
            " [21.84]\n",
            " [18.14]]\n"
          ]
        }
      ]
    }
  ]
}